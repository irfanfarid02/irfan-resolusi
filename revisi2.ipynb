{
  "cells": [
    {
      "cell_type": "markdown",
      "metadata": {
        "id": "view-in-github",
        "colab_type": "text"
      },
      "source": [
        "<a href=\"https://colab.research.google.com/github/irfanfarid02/irfan-resolusi/blob/main/revisi2.ipynb\" target=\"_parent\"><img src=\"https://colab.research.google.com/assets/colab-badge.svg\" alt=\"Open In Colab\"/></a>"
      ]
    },
    {
      "cell_type": "code",
      "execution_count": null,
      "metadata": {
        "colab": {
          "base_uri": "https://localhost:8080/"
        },
        "id": "oymoztB3n7Zi",
        "outputId": "d0b707d3-4059-4af5-c6a5-94d4dbce379c"
      },
      "outputs": [
        {
          "output_type": "stream",
          "name": "stdout",
          "text": [
            "\u001b[?25l   \u001b[90m━━━━━━━━━━━━━━━━━━━━━━━━━━━━━━━━━━━━━━━━\u001b[0m \u001b[32m0.0/209.7 kB\u001b[0m \u001b[31m?\u001b[0m eta \u001b[36m-:--:--\u001b[0m\r\u001b[2K   \u001b[91m━━━━━━━━━━━━━━━━━━━━━━━━━━━━━━━━━━━━━━━\u001b[0m\u001b[90m╺\u001b[0m \u001b[32m204.8/209.7 kB\u001b[0m \u001b[31m6.6 MB/s\u001b[0m eta \u001b[36m0:00:01\u001b[0m\r\u001b[2K   \u001b[90m━━━━━━━━━━━━━━━━━━━━━━━━━━━━━━━━━━━━━━━━\u001b[0m \u001b[32m209.7/209.7 kB\u001b[0m \u001b[31m4.9 MB/s\u001b[0m eta \u001b[36m0:00:00\u001b[0m\n",
            "\u001b[?25h"
          ]
        },
        {
          "output_type": "stream",
          "name": "stderr",
          "text": [
            "[nltk_data] Downloading package stopwords to /root/nltk_data...\n",
            "[nltk_data]   Unzipping corpora/stopwords.zip.\n"
          ]
        }
      ],
      "source": [
        "# Import library yang diperlukan\n",
        "\n",
        "import pandas as pd\n",
        "import re\n",
        "from nltk.corpus import stopwords\n",
        "from tensorflow.keras.models import Sequential\n",
        "from tensorflow.keras.preprocessing.text import Tokenizer\n",
        "from keras.preprocessing.sequence import pad_sequences\n",
        "from sklearn.model_selection import train_test_split\n",
        "import numpy as np\n",
        "import tensorflow as tf\n",
        "from keras.callbacks import EarlyStopping\n",
        "from sklearn.metrics import confusion_matrix, accuracy_score, classification_report\n",
        "from keras.layers import LSTM, Dense, Embedding, SpatialDropout1D\n",
        "import matplotlib.pyplot as plt\n",
        "import seaborn as sns\n",
        "!pip install -q pandas sastrawi scikit-learn\n",
        "from Sastrawi.Stemmer.StemmerFactory import StemmerFactory\n",
        "from google.colab import files\n",
        "import nltk\n",
        "\n",
        "# Download stopwords untuk Bahasa Indonesia\n",
        "nltk.download('stopwords')\n",
        "from nltk.corpus import stopwords\n",
        "stop_words = set(stopwords.words('indonesian'))\n",
        "from IPython.display import display\n"
      ]
    },
    {
      "cell_type": "code",
      "execution_count": null,
      "metadata": {
        "colab": {
          "base_uri": "https://localhost:8080/"
        },
        "id": "3KFvOM6PotAr",
        "outputId": "daf26eaa-a630-4d83-bd27-58edff068fe2"
      },
      "outputs": [
        {
          "output_type": "stream",
          "name": "stdout",
          "text": [
            "   Column1                                            content\n",
            "0    12916  Untuk pencipta apk ini terimah kasih yah Sudah...\n",
            "1    12364                                              bagus\n",
            "2    12964                                 keren banget dah ?\n",
            "3    12205  Lumayan bagus sih, hanya saja mungkin untuk tu...\n",
            "4    12470                                       Sangat bagus\n"
          ]
        }
      ],
      "source": [
        "# Load dataset dari file CSV\n",
        "data = pd.read_csv('/content/23510reviewchatgpt.csv', encoding='latin1', delimiter=';')\n",
        "print(data.head())"
      ]
    },
    {
      "cell_type": "code",
      "source": [
        "data=data[['content']]\n",
        "data.head()"
      ],
      "metadata": {
        "colab": {
          "base_uri": "https://localhost:8080/",
          "height": 206
        },
        "id": "xDyrbOhy485I",
        "outputId": "600f02b1-417e-4e43-b5a5-52b0f0ef8998"
      },
      "execution_count": null,
      "outputs": [
        {
          "output_type": "execute_result",
          "data": {
            "text/plain": [
              "                                             content\n",
              "0  Untuk pencipta apk ini terimah kasih yah Sudah...\n",
              "1                                              bagus\n",
              "2                                 keren banget dah ?\n",
              "3  Lumayan bagus sih, hanya saja mungkin untuk tu...\n",
              "4                                       Sangat bagus"
            ],
            "text/html": [
              "\n",
              "  <div id=\"df-a65cad9f-9525-4423-a916-f32aca783dad\" class=\"colab-df-container\">\n",
              "    <div>\n",
              "<style scoped>\n",
              "    .dataframe tbody tr th:only-of-type {\n",
              "        vertical-align: middle;\n",
              "    }\n",
              "\n",
              "    .dataframe tbody tr th {\n",
              "        vertical-align: top;\n",
              "    }\n",
              "\n",
              "    .dataframe thead th {\n",
              "        text-align: right;\n",
              "    }\n",
              "</style>\n",
              "<table border=\"1\" class=\"dataframe\">\n",
              "  <thead>\n",
              "    <tr style=\"text-align: right;\">\n",
              "      <th></th>\n",
              "      <th>content</th>\n",
              "    </tr>\n",
              "  </thead>\n",
              "  <tbody>\n",
              "    <tr>\n",
              "      <th>0</th>\n",
              "      <td>Untuk pencipta apk ini terimah kasih yah Sudah...</td>\n",
              "    </tr>\n",
              "    <tr>\n",
              "      <th>1</th>\n",
              "      <td>bagus</td>\n",
              "    </tr>\n",
              "    <tr>\n",
              "      <th>2</th>\n",
              "      <td>keren banget dah ?</td>\n",
              "    </tr>\n",
              "    <tr>\n",
              "      <th>3</th>\n",
              "      <td>Lumayan bagus sih, hanya saja mungkin untuk tu...</td>\n",
              "    </tr>\n",
              "    <tr>\n",
              "      <th>4</th>\n",
              "      <td>Sangat bagus</td>\n",
              "    </tr>\n",
              "  </tbody>\n",
              "</table>\n",
              "</div>\n",
              "    <div class=\"colab-df-buttons\">\n",
              "\n",
              "  <div class=\"colab-df-container\">\n",
              "    <button class=\"colab-df-convert\" onclick=\"convertToInteractive('df-a65cad9f-9525-4423-a916-f32aca783dad')\"\n",
              "            title=\"Convert this dataframe to an interactive table.\"\n",
              "            style=\"display:none;\">\n",
              "\n",
              "  <svg xmlns=\"http://www.w3.org/2000/svg\" height=\"24px\" viewBox=\"0 -960 960 960\">\n",
              "    <path d=\"M120-120v-720h720v720H120Zm60-500h600v-160H180v160Zm220 220h160v-160H400v160Zm0 220h160v-160H400v160ZM180-400h160v-160H180v160Zm440 0h160v-160H620v160ZM180-180h160v-160H180v160Zm440 0h160v-160H620v160Z\"/>\n",
              "  </svg>\n",
              "    </button>\n",
              "\n",
              "  <style>\n",
              "    .colab-df-container {\n",
              "      display:flex;\n",
              "      gap: 12px;\n",
              "    }\n",
              "\n",
              "    .colab-df-convert {\n",
              "      background-color: #E8F0FE;\n",
              "      border: none;\n",
              "      border-radius: 50%;\n",
              "      cursor: pointer;\n",
              "      display: none;\n",
              "      fill: #1967D2;\n",
              "      height: 32px;\n",
              "      padding: 0 0 0 0;\n",
              "      width: 32px;\n",
              "    }\n",
              "\n",
              "    .colab-df-convert:hover {\n",
              "      background-color: #E2EBFA;\n",
              "      box-shadow: 0px 1px 2px rgba(60, 64, 67, 0.3), 0px 1px 3px 1px rgba(60, 64, 67, 0.15);\n",
              "      fill: #174EA6;\n",
              "    }\n",
              "\n",
              "    .colab-df-buttons div {\n",
              "      margin-bottom: 4px;\n",
              "    }\n",
              "\n",
              "    [theme=dark] .colab-df-convert {\n",
              "      background-color: #3B4455;\n",
              "      fill: #D2E3FC;\n",
              "    }\n",
              "\n",
              "    [theme=dark] .colab-df-convert:hover {\n",
              "      background-color: #434B5C;\n",
              "      box-shadow: 0px 1px 3px 1px rgba(0, 0, 0, 0.15);\n",
              "      filter: drop-shadow(0px 1px 2px rgba(0, 0, 0, 0.3));\n",
              "      fill: #FFFFFF;\n",
              "    }\n",
              "  </style>\n",
              "\n",
              "    <script>\n",
              "      const buttonEl =\n",
              "        document.querySelector('#df-a65cad9f-9525-4423-a916-f32aca783dad button.colab-df-convert');\n",
              "      buttonEl.style.display =\n",
              "        google.colab.kernel.accessAllowed ? 'block' : 'none';\n",
              "\n",
              "      async function convertToInteractive(key) {\n",
              "        const element = document.querySelector('#df-a65cad9f-9525-4423-a916-f32aca783dad');\n",
              "        const dataTable =\n",
              "          await google.colab.kernel.invokeFunction('convertToInteractive',\n",
              "                                                    [key], {});\n",
              "        if (!dataTable) return;\n",
              "\n",
              "        const docLinkHtml = 'Like what you see? Visit the ' +\n",
              "          '<a target=\"_blank\" href=https://colab.research.google.com/notebooks/data_table.ipynb>data table notebook</a>'\n",
              "          + ' to learn more about interactive tables.';\n",
              "        element.innerHTML = '';\n",
              "        dataTable['output_type'] = 'display_data';\n",
              "        await google.colab.output.renderOutput(dataTable, element);\n",
              "        const docLink = document.createElement('div');\n",
              "        docLink.innerHTML = docLinkHtml;\n",
              "        element.appendChild(docLink);\n",
              "      }\n",
              "    </script>\n",
              "  </div>\n",
              "\n",
              "\n",
              "<div id=\"df-52b114cd-1ca0-4bdd-a710-6c67c3f40518\">\n",
              "  <button class=\"colab-df-quickchart\" onclick=\"quickchart('df-52b114cd-1ca0-4bdd-a710-6c67c3f40518')\"\n",
              "            title=\"Suggest charts\"\n",
              "            style=\"display:none;\">\n",
              "\n",
              "<svg xmlns=\"http://www.w3.org/2000/svg\" height=\"24px\"viewBox=\"0 0 24 24\"\n",
              "     width=\"24px\">\n",
              "    <g>\n",
              "        <path d=\"M19 3H5c-1.1 0-2 .9-2 2v14c0 1.1.9 2 2 2h14c1.1 0 2-.9 2-2V5c0-1.1-.9-2-2-2zM9 17H7v-7h2v7zm4 0h-2V7h2v10zm4 0h-2v-4h2v4z\"/>\n",
              "    </g>\n",
              "</svg>\n",
              "  </button>\n",
              "\n",
              "<style>\n",
              "  .colab-df-quickchart {\n",
              "      --bg-color: #E8F0FE;\n",
              "      --fill-color: #1967D2;\n",
              "      --hover-bg-color: #E2EBFA;\n",
              "      --hover-fill-color: #174EA6;\n",
              "      --disabled-fill-color: #AAA;\n",
              "      --disabled-bg-color: #DDD;\n",
              "  }\n",
              "\n",
              "  [theme=dark] .colab-df-quickchart {\n",
              "      --bg-color: #3B4455;\n",
              "      --fill-color: #D2E3FC;\n",
              "      --hover-bg-color: #434B5C;\n",
              "      --hover-fill-color: #FFFFFF;\n",
              "      --disabled-bg-color: #3B4455;\n",
              "      --disabled-fill-color: #666;\n",
              "  }\n",
              "\n",
              "  .colab-df-quickchart {\n",
              "    background-color: var(--bg-color);\n",
              "    border: none;\n",
              "    border-radius: 50%;\n",
              "    cursor: pointer;\n",
              "    display: none;\n",
              "    fill: var(--fill-color);\n",
              "    height: 32px;\n",
              "    padding: 0;\n",
              "    width: 32px;\n",
              "  }\n",
              "\n",
              "  .colab-df-quickchart:hover {\n",
              "    background-color: var(--hover-bg-color);\n",
              "    box-shadow: 0 1px 2px rgba(60, 64, 67, 0.3), 0 1px 3px 1px rgba(60, 64, 67, 0.15);\n",
              "    fill: var(--button-hover-fill-color);\n",
              "  }\n",
              "\n",
              "  .colab-df-quickchart-complete:disabled,\n",
              "  .colab-df-quickchart-complete:disabled:hover {\n",
              "    background-color: var(--disabled-bg-color);\n",
              "    fill: var(--disabled-fill-color);\n",
              "    box-shadow: none;\n",
              "  }\n",
              "\n",
              "  .colab-df-spinner {\n",
              "    border: 2px solid var(--fill-color);\n",
              "    border-color: transparent;\n",
              "    border-bottom-color: var(--fill-color);\n",
              "    animation:\n",
              "      spin 1s steps(1) infinite;\n",
              "  }\n",
              "\n",
              "  @keyframes spin {\n",
              "    0% {\n",
              "      border-color: transparent;\n",
              "      border-bottom-color: var(--fill-color);\n",
              "      border-left-color: var(--fill-color);\n",
              "    }\n",
              "    20% {\n",
              "      border-color: transparent;\n",
              "      border-left-color: var(--fill-color);\n",
              "      border-top-color: var(--fill-color);\n",
              "    }\n",
              "    30% {\n",
              "      border-color: transparent;\n",
              "      border-left-color: var(--fill-color);\n",
              "      border-top-color: var(--fill-color);\n",
              "      border-right-color: var(--fill-color);\n",
              "    }\n",
              "    40% {\n",
              "      border-color: transparent;\n",
              "      border-right-color: var(--fill-color);\n",
              "      border-top-color: var(--fill-color);\n",
              "    }\n",
              "    60% {\n",
              "      border-color: transparent;\n",
              "      border-right-color: var(--fill-color);\n",
              "    }\n",
              "    80% {\n",
              "      border-color: transparent;\n",
              "      border-right-color: var(--fill-color);\n",
              "      border-bottom-color: var(--fill-color);\n",
              "    }\n",
              "    90% {\n",
              "      border-color: transparent;\n",
              "      border-bottom-color: var(--fill-color);\n",
              "    }\n",
              "  }\n",
              "</style>\n",
              "\n",
              "  <script>\n",
              "    async function quickchart(key) {\n",
              "      const quickchartButtonEl =\n",
              "        document.querySelector('#' + key + ' button');\n",
              "      quickchartButtonEl.disabled = true;  // To prevent multiple clicks.\n",
              "      quickchartButtonEl.classList.add('colab-df-spinner');\n",
              "      try {\n",
              "        const charts = await google.colab.kernel.invokeFunction(\n",
              "            'suggestCharts', [key], {});\n",
              "      } catch (error) {\n",
              "        console.error('Error during call to suggestCharts:', error);\n",
              "      }\n",
              "      quickchartButtonEl.classList.remove('colab-df-spinner');\n",
              "      quickchartButtonEl.classList.add('colab-df-quickchart-complete');\n",
              "    }\n",
              "    (() => {\n",
              "      let quickchartButtonEl =\n",
              "        document.querySelector('#df-52b114cd-1ca0-4bdd-a710-6c67c3f40518 button');\n",
              "      quickchartButtonEl.style.display =\n",
              "        google.colab.kernel.accessAllowed ? 'block' : 'none';\n",
              "    })();\n",
              "  </script>\n",
              "</div>\n",
              "\n",
              "    </div>\n",
              "  </div>\n"
            ],
            "application/vnd.google.colaboratory.intrinsic+json": {
              "type": "dataframe",
              "variable_name": "data",
              "summary": "{\n  \"name\": \"data\",\n  \"rows\": 23509,\n  \"fields\": [\n    {\n      \"column\": \"content\",\n      \"properties\": {\n        \"dtype\": \"string\",\n        \"num_unique_values\": 13726,\n        \"samples\": [\n          \"terbaik emang semua jawabannya bisa difahami dan tentunya juga membantu bagi mahasiswa atau siswa untuk mencari jawaban yang tepat\",\n          \"Rumus matematika tidak muncul, hanya kode2 program sja. Beda dgn versi web, semua rumus matematika muncul\",\n          \"Sangat membantu pekerjaan, terima kasih.\"\n        ],\n        \"semantic_type\": \"\",\n        \"description\": \"\"\n      }\n    }\n  ]\n}"
            }
          },
          "metadata": {},
          "execution_count": 3
        }
      ]
    },
    {
      "cell_type": "code",
      "execution_count": null,
      "metadata": {
        "id": "50zLGMudRvcb"
      },
      "outputs": [],
      "source": [
        "# Hapus baris yang memiliki nilai NaN pada kolom 'content'\n",
        "data.dropna(axis=0, subset=['content'], inplace=True)"
      ]
    },
    {
      "cell_type": "code",
      "source": [
        "missing_info = pd.DataFrame({\n",
        "    'missing_values': data.isnull().sum(),\n",
        "    'percent_missing': data.isnull().mean() * 100\n",
        "})\n",
        "missing_info"
      ],
      "metadata": {
        "colab": {
          "base_uri": "https://localhost:8080/",
          "height": 89
        },
        "id": "XH_7ACdb5CKi",
        "outputId": "6a5597b6-0523-4d84-e8c2-237bd18683dc"
      },
      "execution_count": null,
      "outputs": [
        {
          "output_type": "execute_result",
          "data": {
            "text/plain": [
              "         missing_values  percent_missing\n",
              "content               0              0.0"
            ],
            "text/html": [
              "\n",
              "  <div id=\"df-a7cdca2d-c70d-49f2-a928-0f6f87d72895\" class=\"colab-df-container\">\n",
              "    <div>\n",
              "<style scoped>\n",
              "    .dataframe tbody tr th:only-of-type {\n",
              "        vertical-align: middle;\n",
              "    }\n",
              "\n",
              "    .dataframe tbody tr th {\n",
              "        vertical-align: top;\n",
              "    }\n",
              "\n",
              "    .dataframe thead th {\n",
              "        text-align: right;\n",
              "    }\n",
              "</style>\n",
              "<table border=\"1\" class=\"dataframe\">\n",
              "  <thead>\n",
              "    <tr style=\"text-align: right;\">\n",
              "      <th></th>\n",
              "      <th>missing_values</th>\n",
              "      <th>percent_missing</th>\n",
              "    </tr>\n",
              "  </thead>\n",
              "  <tbody>\n",
              "    <tr>\n",
              "      <th>content</th>\n",
              "      <td>0</td>\n",
              "      <td>0.0</td>\n",
              "    </tr>\n",
              "  </tbody>\n",
              "</table>\n",
              "</div>\n",
              "    <div class=\"colab-df-buttons\">\n",
              "\n",
              "  <div class=\"colab-df-container\">\n",
              "    <button class=\"colab-df-convert\" onclick=\"convertToInteractive('df-a7cdca2d-c70d-49f2-a928-0f6f87d72895')\"\n",
              "            title=\"Convert this dataframe to an interactive table.\"\n",
              "            style=\"display:none;\">\n",
              "\n",
              "  <svg xmlns=\"http://www.w3.org/2000/svg\" height=\"24px\" viewBox=\"0 -960 960 960\">\n",
              "    <path d=\"M120-120v-720h720v720H120Zm60-500h600v-160H180v160Zm220 220h160v-160H400v160Zm0 220h160v-160H400v160ZM180-400h160v-160H180v160Zm440 0h160v-160H620v160ZM180-180h160v-160H180v160Zm440 0h160v-160H620v160Z\"/>\n",
              "  </svg>\n",
              "    </button>\n",
              "\n",
              "  <style>\n",
              "    .colab-df-container {\n",
              "      display:flex;\n",
              "      gap: 12px;\n",
              "    }\n",
              "\n",
              "    .colab-df-convert {\n",
              "      background-color: #E8F0FE;\n",
              "      border: none;\n",
              "      border-radius: 50%;\n",
              "      cursor: pointer;\n",
              "      display: none;\n",
              "      fill: #1967D2;\n",
              "      height: 32px;\n",
              "      padding: 0 0 0 0;\n",
              "      width: 32px;\n",
              "    }\n",
              "\n",
              "    .colab-df-convert:hover {\n",
              "      background-color: #E2EBFA;\n",
              "      box-shadow: 0px 1px 2px rgba(60, 64, 67, 0.3), 0px 1px 3px 1px rgba(60, 64, 67, 0.15);\n",
              "      fill: #174EA6;\n",
              "    }\n",
              "\n",
              "    .colab-df-buttons div {\n",
              "      margin-bottom: 4px;\n",
              "    }\n",
              "\n",
              "    [theme=dark] .colab-df-convert {\n",
              "      background-color: #3B4455;\n",
              "      fill: #D2E3FC;\n",
              "    }\n",
              "\n",
              "    [theme=dark] .colab-df-convert:hover {\n",
              "      background-color: #434B5C;\n",
              "      box-shadow: 0px 1px 3px 1px rgba(0, 0, 0, 0.15);\n",
              "      filter: drop-shadow(0px 1px 2px rgba(0, 0, 0, 0.3));\n",
              "      fill: #FFFFFF;\n",
              "    }\n",
              "  </style>\n",
              "\n",
              "    <script>\n",
              "      const buttonEl =\n",
              "        document.querySelector('#df-a7cdca2d-c70d-49f2-a928-0f6f87d72895 button.colab-df-convert');\n",
              "      buttonEl.style.display =\n",
              "        google.colab.kernel.accessAllowed ? 'block' : 'none';\n",
              "\n",
              "      async function convertToInteractive(key) {\n",
              "        const element = document.querySelector('#df-a7cdca2d-c70d-49f2-a928-0f6f87d72895');\n",
              "        const dataTable =\n",
              "          await google.colab.kernel.invokeFunction('convertToInteractive',\n",
              "                                                    [key], {});\n",
              "        if (!dataTable) return;\n",
              "\n",
              "        const docLinkHtml = 'Like what you see? Visit the ' +\n",
              "          '<a target=\"_blank\" href=https://colab.research.google.com/notebooks/data_table.ipynb>data table notebook</a>'\n",
              "          + ' to learn more about interactive tables.';\n",
              "        element.innerHTML = '';\n",
              "        dataTable['output_type'] = 'display_data';\n",
              "        await google.colab.output.renderOutput(dataTable, element);\n",
              "        const docLink = document.createElement('div');\n",
              "        docLink.innerHTML = docLinkHtml;\n",
              "        element.appendChild(docLink);\n",
              "      }\n",
              "    </script>\n",
              "  </div>\n",
              "\n",
              "\n",
              "  <div id=\"id_8daeeb9d-eeee-4f37-982a-dd8b7b5ca9d1\">\n",
              "    <style>\n",
              "      .colab-df-generate {\n",
              "        background-color: #E8F0FE;\n",
              "        border: none;\n",
              "        border-radius: 50%;\n",
              "        cursor: pointer;\n",
              "        display: none;\n",
              "        fill: #1967D2;\n",
              "        height: 32px;\n",
              "        padding: 0 0 0 0;\n",
              "        width: 32px;\n",
              "      }\n",
              "\n",
              "      .colab-df-generate:hover {\n",
              "        background-color: #E2EBFA;\n",
              "        box-shadow: 0px 1px 2px rgba(60, 64, 67, 0.3), 0px 1px 3px 1px rgba(60, 64, 67, 0.15);\n",
              "        fill: #174EA6;\n",
              "      }\n",
              "\n",
              "      [theme=dark] .colab-df-generate {\n",
              "        background-color: #3B4455;\n",
              "        fill: #D2E3FC;\n",
              "      }\n",
              "\n",
              "      [theme=dark] .colab-df-generate:hover {\n",
              "        background-color: #434B5C;\n",
              "        box-shadow: 0px 1px 3px 1px rgba(0, 0, 0, 0.15);\n",
              "        filter: drop-shadow(0px 1px 2px rgba(0, 0, 0, 0.3));\n",
              "        fill: #FFFFFF;\n",
              "      }\n",
              "    </style>\n",
              "    <button class=\"colab-df-generate\" onclick=\"generateWithVariable('missing_info')\"\n",
              "            title=\"Generate code using this dataframe.\"\n",
              "            style=\"display:none;\">\n",
              "\n",
              "  <svg xmlns=\"http://www.w3.org/2000/svg\" height=\"24px\"viewBox=\"0 0 24 24\"\n",
              "       width=\"24px\">\n",
              "    <path d=\"M7,19H8.4L18.45,9,17,7.55,7,17.6ZM5,21V16.75L18.45,3.32a2,2,0,0,1,2.83,0l1.4,1.43a1.91,1.91,0,0,1,.58,1.4,1.91,1.91,0,0,1-.58,1.4L9.25,21ZM18.45,9,17,7.55Zm-12,3A5.31,5.31,0,0,0,4.9,8.1,5.31,5.31,0,0,0,1,6.5,5.31,5.31,0,0,0,4.9,4.9,5.31,5.31,0,0,0,6.5,1,5.31,5.31,0,0,0,8.1,4.9,5.31,5.31,0,0,0,12,6.5,5.46,5.46,0,0,0,6.5,12Z\"/>\n",
              "  </svg>\n",
              "    </button>\n",
              "    <script>\n",
              "      (() => {\n",
              "      const buttonEl =\n",
              "        document.querySelector('#id_8daeeb9d-eeee-4f37-982a-dd8b7b5ca9d1 button.colab-df-generate');\n",
              "      buttonEl.style.display =\n",
              "        google.colab.kernel.accessAllowed ? 'block' : 'none';\n",
              "\n",
              "      buttonEl.onclick = () => {\n",
              "        google.colab.notebook.generateWithVariable('missing_info');\n",
              "      }\n",
              "      })();\n",
              "    </script>\n",
              "  </div>\n",
              "\n",
              "    </div>\n",
              "  </div>\n"
            ],
            "application/vnd.google.colaboratory.intrinsic+json": {
              "type": "dataframe",
              "variable_name": "missing_info",
              "summary": "{\n  \"name\": \"missing_info\",\n  \"rows\": 1,\n  \"fields\": [\n    {\n      \"column\": \"missing_values\",\n      \"properties\": {\n        \"dtype\": \"number\",\n        \"std\": null,\n        \"min\": 0,\n        \"max\": 0,\n        \"num_unique_values\": 1,\n        \"samples\": [\n          0\n        ],\n        \"semantic_type\": \"\",\n        \"description\": \"\"\n      }\n    },\n    {\n      \"column\": \"percent_missing\",\n      \"properties\": {\n        \"dtype\": \"number\",\n        \"std\": null,\n        \"min\": 0.0,\n        \"max\": 0.0,\n        \"num_unique_values\": 1,\n        \"samples\": [\n          0.0\n        ],\n        \"semantic_type\": \"\",\n        \"description\": \"\"\n      }\n    }\n  ]\n}"
            }
          },
          "metadata": {},
          "execution_count": 5
        }
      ]
    },
    {
      "cell_type": "code",
      "source": [
        "# Menghitung panjang dalam jumlah kata\n",
        "data['panjang_kata'] = data['content'].apply(lambda x: len(x.split()))\n",
        "\n",
        "# Menghitung panjang dalam jumlah karakter\n",
        "data['panjang_karakter'] = data['content'].apply(len)\n"
      ],
      "metadata": {
        "id": "fMPTAoKwGTD8"
      },
      "execution_count": null,
      "outputs": []
    },
    {
      "cell_type": "code",
      "source": [
        "\n",
        "plt.figure(figsize=(10, 6))\n",
        "sns.histplot(data['panjang_kata'], bins=30, kde=True)\n",
        "plt.xlabel('Jumlah Kata per Review')\n",
        "plt.ylabel('Frekuensi')\n",
        "plt.title('Distribusi Panjang Review dalam Jumlah Kata')\n",
        "plt.show()\n"
      ],
      "metadata": {
        "colab": {
          "base_uri": "https://localhost:8080/",
          "height": 564
        },
        "id": "BLF2K9SwGgfh",
        "outputId": "6ea3f9e9-24ff-408c-e5ab-b1189828d2df"
      },
      "execution_count": null,
      "outputs": [
        {
          "output_type": "display_data",
          "data": {
            "text/plain": [
              "<Figure size 1000x600 with 1 Axes>"
            ],
            "image/png": "[encoded data removed]"
          },
          "metadata": {}
        }
      ]
    },
    {
      "cell_type": "markdown",
      "source": [
        "preprocessing"
      ],
      "metadata": {
        "id": "SQGQ4nqE5GU6"
      }
    },
    {
      "cell_type": "code",
      "execution_count": null,
      "metadata": {
        "id": "waEVtVGIoME5"
      },
      "outputs": [],
      "source": [
        "# Inisialisasi stemmer dari Sastrawi\n",
        "factory = StemmerFactory()\n",
        "stemmer = factory.create_stemmer()\n",
        "\n",
        "# Load lexicon for sentiment analysis (lexicon sentimen indo)\n",
        "positive_lexicon = pd.read_csv('positive.tsv', sep='\\t')\n",
        "negative_lexicon = pd.read_csv('negative.tsv', sep='\\t')\n",
        "\n",
        "# Membuat kamus kata positif dan negatif untuk lookup\n",
        "positive_dict = dict(zip(positive_lexicon['word'], positive_lexicon['weight']))\n",
        "negative_dict = dict(zip(negative_lexicon['word'], negative_lexicon['weight']))"
      ]
    },
    {
      "cell_type": "code",
      "source": [
        "#Define slang normalization dictionary\n",
        "slang_dict = {\n",
        "    \"gak\": \"tidak\", \"gbs\": \"tidak bisa\", \"gk\": \"tidak\", \"nggak\": \"tidak\",\n",
        "    \"udah\": \"sudah\", \"aja\": \"saja\", \"mau\": \"ingin\", \"gue\": \"saya\", \"klo\": \"kalau\",\n",
        "    \"tp\": \"tapi\", \"tpi\": \"tapi\", \"sy\": \"saya\", \"anjayyy \": \"wah \", \"ngulang\": \"mengulang\",\n",
        "    \"btw\": \"ngomong-ngomong\", \"tp\": \"tapi\", \"sy\": \"saya\", \"anjayyy \": \"wah \",\n",
        "    \"ngulang\": \"mengulang\", \"yaa\": \"iya\", \"njay\": \" \", \"mantaf\": \"mantap\",\n",
        "    \"fokoknyah\": \"pokoknya\", \"gaada\": \"tidak ada\", \"gamau\": \"tidak mau\",\n",
        "    \"pke\": \"pakai\", \"yg\": \"yang\", \"tu\": \"itu\", \"kyk\": \"seperti\", \"udh\": \"sudah\",\n",
        "    \"lgi\": \"lagi\", \"trus\": \"terus\", \"udh\": \"sudah\", \"nyoba\": \"mencoba\", \"msi\": \"masih\",\n",
        "    \"untk\": \"untuk\",\n",
        "}"
      ],
      "metadata": {
        "id": "kaVEijec8XVE"
      },
      "execution_count": null,
      "outputs": []
    },
    {
      "cell_type": "code",
      "execution_count": null,
      "metadata": {
        "id": "xehOxi-gUUoN"
      },
      "outputs": [],
      "source": [
        "# Fungsi preprocessing\n",
        "def case_folding(content):\n",
        "    return content.lower()\n",
        "\n",
        "def normalize_slang(content):\n",
        "    for slang, replacement in slang_dict.items():\n",
        "        content = re.sub(r'\\b' + slang + r'\\b', replacement, content)\n",
        "    return content\n",
        "\n",
        "def remove_stopwords(content):\n",
        "    return ' '.join([word for word in content.split() if word not in stop_words])\n",
        "\n",
        "def stem_words(content):\n",
        "    return ' '.join([stemmer.stem(word) for word in content.split()])\n",
        "\n",
        "def tokenize_content(content):\n",
        "    return content.split()\n"
      ]
    },
    {
      "cell_type": "code",
      "source": [
        "# Proses preprocessing pada seluruh data menggunakan swifter\n",
        "!pip install swifter\n",
        "import swifter\n",
        "import time\n",
        "\n",
        "def preprocess_data_swifter(df):\n",
        "    # Memanfaatkan swifter untuk mempercepat proses\n",
        "    return df['content'].swifter.apply(lambda x: {\n",
        "        \"Hasil Case Folding\": case_folding(x),\n",
        "        \"Hasil Normalisasi Slang Word\": normalize_slang(case_folding(x)),\n",
        "        \"Hasil Stopword Removal\": remove_stopwords(normalize_slang(case_folding(x))),\n",
        "        \"Hasil Stemming\": stem_words(remove_stopwords(normalize_slang(case_folding(x)))),\n",
        "        \"Hasil Tokenisasi\": tokenize_content(stem_words(remove_stopwords(normalize_slang(case_folding(x))))),\n",
        "    })\n",
        "\n",
        "# Menerapkan preprocessing ke seluruh data dan menghitung waktu\n",
        "start_time = time.time()\n",
        "\n",
        "# Proses seluruh data dengan swifter untuk mempercepat aplikasi\n",
        "df_processed = preprocess_data_swifter(data)\n",
        "\n",
        "# Catat waktu selesai pemrosesan\n",
        "end_time = time.time()\n",
        "\n",
        "# Hitung dan tampilkan waktu pemrosesan\n",
        "processing_time = end_time - start_time\n",
        "print(f\"Processing time: {processing_time:.2f} seconds\")\n",
        "\n",
        "# Tampilkan hasil\n",
        "print(\"Hasil Preprocessing untuk Semua Data:\")\n",
        "display(df_processed)"
      ],
      "metadata": {
        "colab": {
          "base_uri": "https://localhost:8080/",
          "height": 1000,
          "referenced_widgets": [
            "0d717f1e3813486c9b05d23159d90e22",
            "cdbfc1b4e6724869a3551524b242987f",
            "81040a7b892f427281a4dd8adeac6385",
            "2e66e37d73ff47fabeec2da892c2be05",
            "1ded2521aaa348d6b80f4c118754fe43",
            "cf6d6e86ad254c44a4a3874ae4f33c8e",
            "ff6d8817dc7045648823cfa8ac5fc746",
            "b078d9c390bc4b19b90d432dbfc27f18",
            "29fe6c9fbbcc47fb99371047d2fb3f7f",
            "6f6a4677a7e948329fe621011f0ba6ae",
            "1b3084a45b3a499299ef33b5bf0bce3d"
          ]
        },
        "id": "U5KA_3QtHh2P",
        "outputId": "174ca7bb-0c7e-404e-dc9c-587c309b391e"
      },
      "execution_count": null,
      "outputs": [
        {
          "output_type": "stream",
          "name": "stdout",
          "text": [
            "Collecting swifter\n",
            "  Downloading swifter-1.4.0.tar.gz (1.2 MB)\n",
            "\u001b[?25l     \u001b[90m━━━━━━━━━━━━━━━━━━━━━━━━━━━━━━━━━━━━━━━━\u001b[0m \u001b[32m0.0/1.2 MB\u001b[0m \u001b[31m?\u001b[0m eta \u001b[36m-:--:--\u001b[0m\r\u001b[2K     \u001b[91m━━━━━━━━━━━━\u001b[0m\u001b[90m╺\u001b[0m\u001b[90m━━━━━━━━━━━━━━━━━━━━━━━━━━━\u001b[0m \u001b[32m0.4/1.2 MB\u001b[0m \u001b[31m12.0 MB/s\u001b[0m eta \u001b[36m0:00:01\u001b[0m\r\u001b[2K     \u001b[90m━━━━━━━━━━━━━━━━━━━━━━━━━━━━━━━━━━━━━━━━\u001b[0m \u001b[32m1.2/1.2 MB\u001b[0m \u001b[31m19.6 MB/s\u001b[0m eta \u001b[36m0:00:00\u001b[0m\n",
            "\u001b[?25h  Preparing metadata (setup.py) ... \u001b[?25l\u001b[?25hdone\n",
            "Requirement already satisfied: pandas>=1.0.0 in /usr/local/lib/python3.10/dist-packages (from swifter) (2.2.2)\n",
            "Requirement already satisfied: psutil>=5.6.6 in /usr/local/lib/python3.10/dist-packages (from swifter) (5.9.5)\n",
            "Requirement already satisfied: dask>=2.10.0 in /usr/local/lib/python3.10/dist-packages (from dask[dataframe]>=2.10.0->swifter) (2024.10.0)\n",
            "Requirement already satisfied: tqdm>=4.33.0 in /usr/local/lib/python3.10/dist-packages (from swifter) (4.66.6)\n",
            "Requirement already satisfied: click>=8.1 in /usr/local/lib/python3.10/dist-packages (from dask>=2.10.0->dask[dataframe]>=2.10.0->swifter) (8.1.7)\n",
            "Requirement already satisfied: cloudpickle>=3.0.0 in /usr/local/lib/python3.10/dist-packages (from dask>=2.10.0->dask[dataframe]>=2.10.0->swifter) (3.1.0)\n",
            "Requirement already satisfied: fsspec>=2021.09.0 in /usr/local/lib/python3.10/dist-packages (from dask>=2.10.0->dask[dataframe]>=2.10.0->swifter) (2024.10.0)\n",
            "Requirement already satisfied: packaging>=20.0 in /usr/local/lib/python3.10/dist-packages (from dask>=2.10.0->dask[dataframe]>=2.10.0->swifter) (24.2)\n",
            "Requirement already satisfied: partd>=1.4.0 in /usr/local/lib/python3.10/dist-packages (from dask>=2.10.0->dask[dataframe]>=2.10.0->swifter) (1.4.2)\n",
            "Requirement already satisfied: pyyaml>=5.3.1 in /usr/local/lib/python3.10/dist-packages (from dask>=2.10.0->dask[dataframe]>=2.10.0->swifter) (6.0.2)\n",
            "Requirement already satisfied: toolz>=0.10.0 in /usr/local/lib/python3.10/dist-packages (from dask>=2.10.0->dask[dataframe]>=2.10.0->swifter) (0.12.1)\n",
            "Requirement already satisfied: importlib-metadata>=4.13.0 in /usr/local/lib/python3.10/dist-packages (from dask>=2.10.0->dask[dataframe]>=2.10.0->swifter) (8.5.0)\n",
            "Collecting dask-expr<1.2,>=1.1 (from dask[dataframe]>=2.10.0->swifter)\n",
            "  Downloading dask_expr-1.1.19-py3-none-any.whl.metadata (2.6 kB)\n",
            "Requirement already satisfied: numpy>=1.22.4 in /usr/local/lib/python3.10/dist-packages (from pandas>=1.0.0->swifter) (1.26.4)\n",
            "Requirement already satisfied: python-dateutil>=2.8.2 in /usr/local/lib/python3.10/dist-packages (from pandas>=1.0.0->swifter) (2.8.2)\n",
            "Requirement already satisfied: pytz>=2020.1 in /usr/local/lib/python3.10/dist-packages (from pandas>=1.0.0->swifter) (2024.2)\n",
            "Requirement already satisfied: tzdata>=2022.7 in /usr/local/lib/python3.10/dist-packages (from pandas>=1.0.0->swifter) (2024.2)\n",
            "INFO: pip is looking at multiple versions of dask-expr to determine which version is compatible with other requirements. This could take a while.\n",
            "  Downloading dask_expr-1.1.18-py3-none-any.whl.metadata (2.6 kB)\n",
            "  Downloading dask_expr-1.1.16-py3-none-any.whl.metadata (2.5 kB)\n",
            "Requirement already satisfied: pyarrow>=14.0.1 in /usr/local/lib/python3.10/dist-packages (from dask-expr<1.2,>=1.1->dask[dataframe]>=2.10.0->swifter) (17.0.0)\n",
            "Requirement already satisfied: zipp>=3.20 in /usr/local/lib/python3.10/dist-packages (from importlib-metadata>=4.13.0->dask>=2.10.0->dask[dataframe]>=2.10.0->swifter) (3.21.0)\n",
            "Requirement already satisfied: locket in /usr/local/lib/python3.10/dist-packages (from partd>=1.4.0->dask>=2.10.0->dask[dataframe]>=2.10.0->swifter) (1.0.0)\n",
            "Requirement already satisfied: six>=1.5 in /usr/local/lib/python3.10/dist-packages (from python-dateutil>=2.8.2->pandas>=1.0.0->swifter) (1.16.0)\n",
            "Downloading dask_expr-1.1.16-py3-none-any.whl (243 kB)\n",
            "\u001b[2K   \u001b[90m━━━━━━━━━━━━━━━━━━━━━━━━━━━━━━━━━━━━━━━━\u001b[0m \u001b[32m243.2/243.2 kB\u001b[0m \u001b[31m17.7 MB/s\u001b[0m eta \u001b[36m0:00:00\u001b[0m\n",
            "\u001b[?25hBuilding wheels for collected packages: swifter\n",
            "  Building wheel for swifter (setup.py) ... \u001b[?25l\u001b[?25hdone\n",
            "  Created wheel for swifter: filename=swifter-1.4.0-py3-none-any.whl size=16507 sha256=e3b7bf5b35d16e90d2f4508aac97927330aa29b81849d5b553e5cb9cccc3b951\n",
            "  Stored in directory: /root/.cache/pip/wheels/e4/cf/51/0904952972ee2c7aa3709437065278dc534ec1b8d2ad41b443\n",
            "Successfully built swifter\n",
            "Installing collected packages: dask-expr, swifter\n",
            "Successfully installed dask-expr-1.1.16 swifter-1.4.0\n"
          ]
        },
        {
          "output_type": "display_data",
          "data": {
            "text/plain": [
              "Pandas Apply:   0%|          | 0/23508 [00:00<?, ?it/s]"
            ],
            "application/vnd.jupyter.widget-view+json": {
              "version_major": 2,
              "version_minor": 0,
              "model_id": "0d717f1e3813486c9b05d23159d90e22"
            }
          },
          "metadata": {}
        },
        {
          "output_type": "stream",
          "name": "stdout",
          "text": [
            "Processing time: 1089.83 seconds\n",
            "Hasil Preprocessing untuk Semua Data:\n"
          ]
        },
        {
          "output_type": "display_data",
          "data": {
            "text/plain": [
              "0        {'Hasil Case Folding': 'untuk pencipta apk ini...\n",
              "1        {'Hasil Case Folding': 'bagus', 'Hasil Normali...\n",
              "2        {'Hasil Case Folding': 'keren banget dah ?', '...\n",
              "3        {'Hasil Case Folding': 'lumayan bagus sih, han...\n",
              "4        {'Hasil Case Folding': 'sangat bagus', 'Hasil ...\n",
              "                               ...                        \n",
              "23504    {'Hasil Case Folding': 'tapi login nya nggak j...\n",
              "23505    {'Hasil Case Folding': 'ngeleg', 'Hasil Normal...\n",
              "23506    {'Hasil Case Folding': 'update pengetahuan nya...\n",
              "23507    {'Hasil Case Folding': 'kurang tepat untuk men...\n",
              "23508    {'Hasil Case Folding': 'belum download??', 'Ha...\n",
              "Name: content, Length: 23508, dtype: object"
            ],
            "text/html": [
              "<div>\n",
              "<style scoped>\n",
              "    .dataframe tbody tr th:only-of-type {\n",
              "        vertical-align: middle;\n",
              "    }\n",
              "\n",
              "    .dataframe tbody tr th {\n",
              "        vertical-align: top;\n",
              "    }\n",
              "\n",
              "    .dataframe thead th {\n",
              "        text-align: right;\n",
              "    }\n",
              "</style>\n",
              "<table border=\"1\" class=\"dataframe\">\n",
              "  <thead>\n",
              "    <tr style=\"text-align: right;\">\n",
              "      <th></th>\n",
              "      <th>content</th>\n",
              "    </tr>\n",
              "  </thead>\n",
              "  <tbody>\n",
              "    <tr>\n",
              "      <th>0</th>\n",
              "      <td>{'Hasil Case Folding': 'untuk pencipta apk ini...</td>\n",
              "    </tr>\n",
              "    <tr>\n",
              "      <th>1</th>\n",
              "      <td>{'Hasil Case Folding': 'bagus', 'Hasil Normali...</td>\n",
              "    </tr>\n",
              "    <tr>\n",
              "      <th>2</th>\n",
              "      <td>{'Hasil Case Folding': 'keren banget dah ?', '...</td>\n",
              "    </tr>\n",
              "    <tr>\n",
              "      <th>3</th>\n",
              "      <td>{'Hasil Case Folding': 'lumayan bagus sih, han...</td>\n",
              "    </tr>\n",
              "    <tr>\n",
              "      <th>4</th>\n",
              "      <td>{'Hasil Case Folding': 'sangat bagus', 'Hasil ...</td>\n",
              "    </tr>\n",
              "    <tr>\n",
              "      <th>...</th>\n",
              "      <td>...</td>\n",
              "    </tr>\n",
              "    <tr>\n",
              "      <th>23504</th>\n",
              "      <td>{'Hasil Case Folding': 'tapi login nya nggak j...</td>\n",
              "    </tr>\n",
              "    <tr>\n",
              "      <th>23505</th>\n",
              "      <td>{'Hasil Case Folding': 'ngeleg', 'Hasil Normal...</td>\n",
              "    </tr>\n",
              "    <tr>\n",
              "      <th>23506</th>\n",
              "      <td>{'Hasil Case Folding': 'update pengetahuan nya...</td>\n",
              "    </tr>\n",
              "    <tr>\n",
              "      <th>23507</th>\n",
              "      <td>{'Hasil Case Folding': 'kurang tepat untuk men...</td>\n",
              "    </tr>\n",
              "    <tr>\n",
              "      <th>23508</th>\n",
              "      <td>{'Hasil Case Folding': 'belum download??', 'Ha...</td>\n",
              "    </tr>\n",
              "  </tbody>\n",
              "</table>\n",
              "<p>23508 rows × 1 columns</p>\n",
              "</div><br><label><b>dtype:</b> object</label>"
            ]
          },
          "metadata": {}
        }
      ]
    },
    {
      "cell_type": "code",
      "source": [
        "# Ubah hasil preprocessing menjadi DataFrame (menggunakan apply(pd.Series))\n",
        "df_processed_expanded = df_processed.apply(pd.Series)\n",
        "\n",
        "# Menemukan dua baris dengan teks terpanjang setelah preprocessing\n",
        "longest_case_folding = df_processed_expanded['Hasil Case Folding'].apply(len).nlargest(2)\n",
        "\n",
        "# Ambil index baris terpanjang\n",
        "longest_case_foldings_idx = longest_case_folding.index\n",
        "\n",
        "# Menampilkan dua contoh data terpanjang pada setiap langkah preprocessing\n",
        "print(\"Contoh Dua Data Terpanjang:\")\n",
        "\n",
        "# Menampilkan hasil preprocessing untuk dua data terpanjang\n",
        "for idx in longest_case_foldings_idx:\n",
        "    print(f\"\\nTeks Terpanjang pada Index {idx}:\\n\")\n",
        "\n",
        "    # Mengambil hasil preprocessing untuk setiap kolom\n",
        "    case_folding = df_processed_expanded.iloc[idx]['Hasil Case Folding']\n",
        "    normalisasi_slang = df_processed_expanded.iloc[idx]['Hasil Normalisasi Slang Word']\n",
        "    stopword_removal = df_processed_expanded.iloc[idx]['Hasil Stopword Removal']\n",
        "    stemming = df_processed_expanded.iloc[idx]['Hasil Stemming']\n",
        "    tokenisasi = df_processed_expanded.iloc[idx]['Hasil Tokenisasi']\n",
        "\n",
        "    # Menampilkan hasil dengan format yang lebih rapi\n",
        "    print(f\"1. Hasil Case Folding: \\n{case_folding}\\n\")\n",
        "    print(f\"2. Hasil Normalisasi Slang Word: \\n{normalisasi_slang}\\n\")\n",
        "    print(f\"3. Hasil Stopword Removal: \\n{stopword_removal}\\n\")\n",
        "    print(f\"4. Hasil Stemming: \\n{stemming}\\n\")\n",
        "    print(f\"5. Hasil Tokenisasi: \\n{tokenisasi}\\n\")  # Menampilkan tokenisasi sebagai array\n"
      ],
      "metadata": {
        "colab": {
          "base_uri": "https://localhost:8080/"
        },
        "id": "qNQogf7dXgd6",
        "outputId": "757c9fd1-fca3-440a-b684-fef7d3ac2f76"
      },
      "execution_count": null,
      "outputs": [
        {
          "output_type": "stream",
          "name": "stdout",
          "text": [
            "Contoh Dua Data Terpanjang:\n",
            "\n",
            "Teks Terpanjang pada Index 4829:\n",
            "\n",
            "1. Hasil Case Folding: \n",
            "terimakasih untuk semuanya , saya bisa sambil belajar bahasa asing di dalam aplikasi ini . saya tidak merasakan ada kekurangan di sini dan saya rasa ini sudah sangat membantu saya pribadi dalam belajar . apalagi ini aplikasi yg tidak diwajibkan berbayar, saya tidak apa apa dengan aplikasi yg usang atau tertinggal. karena saya bukan dalam jajaran kapitalisme yang memiliki sumber daya secara langsung ,saya berada pada jajaran bawah yg terkadang berfikir untk belajar namun ada beberapa keterbatasan\n",
            "\n",
            "2. Hasil Normalisasi Slang Word: \n",
            "terimakasih untuk semuanya , saya bisa sambil belajar bahasa asing di dalam aplikasi ini . saya tidak merasakan ada kekurangan di sini dan saya rasa ini sudah sangat membantu saya pribadi dalam belajar . apalagi ini aplikasi yang tidak diwajibkan berbayar, saya tidak apa apa dengan aplikasi yang usang atau tertinggal. karena saya bukan dalam jajaran kapitalisme yang memiliki sumber daya secara langsung ,saya berada pada jajaran bawah yang terkadang berfikir untuk belajar namun ada beberapa keterbatasan\n",
            "\n",
            "3. Hasil Stopword Removal: \n",
            "terimakasih , belajar bahasa asing aplikasi . merasakan kekurangan membantu pribadi belajar . aplikasi diwajibkan berbayar, aplikasi usang tertinggal. jajaran kapitalisme memiliki sumber daya langsung ,saya jajaran terkadang berfikir belajar keterbatasan\n",
            "\n",
            "4. Hasil Stemming: \n",
            "terimakasih  ajar bahasa asing aplikasi  rasa kurang bantu pribadi ajar  aplikasi wajib bayar aplikasi usang tinggal jajar kapitalisme milik sumber daya langsung saya jajar terkadang berfikir ajar batas\n",
            "\n",
            "5. Hasil Tokenisasi: \n",
            "['terimakasih', 'ajar', 'bahasa', 'asing', 'aplikasi', 'rasa', 'kurang', 'bantu', 'pribadi', 'ajar', 'aplikasi', 'wajib', 'bayar', 'aplikasi', 'usang', 'tinggal', 'jajar', 'kapitalisme', 'milik', 'sumber', 'daya', 'langsung', 'saya', 'jajar', 'terkadang', 'berfikir', 'ajar', 'batas']\n",
            "\n",
            "\n",
            "Teks Terpanjang pada Index 5879:\n",
            "\n",
            "1. Hasil Case Folding: \n",
            "tolong..klo bisa akun yg kita hapus tu bisa balik lagi..maksudnya bukan balik ke semula, tpi kyk bisa di gunain lagi,, kan akun yg udh di delete tu \"biasanya\" bisa kepake lgi walaupun datanya udh gk ada,, tpi ini sekali di hapus gk bisa di gunain lgi akun googlenya..aku gk sengaja kehapus akun utama chatgpt di google,,nah trus tiap mau balik keakun tu gk bisa. truss,,kadang suka error atau ada bug, pas mau login tu katanya ada gangguan atau apalah,,udh nyoba uinstall, trus ps nyoba msi gangguan-\n",
            "\n",
            "2. Hasil Normalisasi Slang Word: \n",
            "tolong..kalau bisa akun yang kita hapus itu bisa balik lagi..maksudnya bukan balik ke semula, tapi seperti bisa di gunain lagi,, kan akun yang sudah di delete itu \"biasanya\" bisa kepake lagi walaupun datanya sudah tidak ada,, tapi ini sekali di hapus tidak bisa di gunain lagi akun googlenya..aku tidak sengaja kehapus akun utama chatgpt di google,,nah terus tiap ingin balik keakun itu tidak bisa. truss,,kadang suka error atau ada bug, pas ingin login itu katanya ada gangguan atau apalah,,sudah mencoba uinstall, terus ps mencoba masih gangguan-\n",
            "\n",
            "3. Hasil Stopword Removal: \n",
            "tolong..kalau akun hapus lagi..maksudnya semula, gunain lagi,, akun delete \"biasanya\" kepake datanya ada,, hapus gunain akun googlenya..aku sengaja kehapus akun utama chatgpt google,,nah keakun bisa. truss,,kadang suka error bug, pas login gangguan apalah,,sudah mencoba uinstall, ps mencoba gangguan-\n",
            "\n",
            "4. Hasil Stemming: \n",
            "tolong kalau akun hapus lagi maksud mula gunain lagi akun delete biasa kepake data ada hapus gunain akun googlenya aku sengaja hapus akun utama chatgpt google nah akun bisa truss kadang suka error bug pas login ganggu apa sudah coba uinstall ps coba gangguan-\n",
            "\n",
            "5. Hasil Tokenisasi: \n",
            "['tolong', 'kalau', 'akun', 'hapus', 'lagi', 'maksud', 'mula', 'gunain', 'lagi', 'akun', 'delete', 'biasa', 'kepake', 'data', 'ada', 'hapus', 'gunain', 'akun', 'googlenya', 'aku', 'sengaja', 'hapus', 'akun', 'utama', 'chatgpt', 'google', 'nah', 'akun', 'bisa', 'truss', 'kadang', 'suka', 'error', 'bug', 'pas', 'login', 'ganggu', 'apa', 'sudah', 'coba', 'uinstall', 'ps', 'coba', 'gangguan-']\n",
            "\n"
          ]
        }
      ]
    },
    {
      "cell_type": "code",
      "execution_count": null,
      "metadata": {
        "id": "DgTe35-Koh-I"
      },
      "outputs": [],
      "source": [
        "# Tokenization\n",
        "tokenizer = Tokenizer(num_words=5000)\n",
        "tokenizer.fit_on_texts(data['content'].values)\n",
        "data['tokenized_content'] = tokenizer.texts_to_sequences(data['content'].values)"
      ]
    },
    {
      "cell_type": "code",
      "execution_count": null,
      "metadata": {
        "id": "04DyHudCfJMJ"
      },
      "outputs": [],
      "source": [
        "# Sentiment Analysis Stages\n",
        "sentiment_cache = {}\n",
        "\n",
        "def get_sentiment(content):\n",
        "    if content in sentiment_cache:\n",
        "        return sentiment_cache[content]\n",
        "\n",
        "    content_stemmed = stem_words(content)  # Apply stemming\n",
        "\n",
        "    score = 0\n",
        "    for word in content_stemmed.split():\n",
        "        if word in positive_dict:\n",
        "            score += positive_dict[word]\n",
        "        elif word in negative_dict:\n",
        "            score += negative_dict[word]\n",
        "\n",
        "    # Step 3: Labeling Sentiment\n",
        "    if score > 0:\n",
        "        sentiment = 'Positive'\n",
        "    elif score < 0:\n",
        "        sentiment = 'Negative'\n",
        "    else:\n",
        "        sentiment = 'Neutral'\n",
        "\n",
        "    sentiment_cache[content] = sentiment\n",
        "    return sentiment\n",
        "\n",
        "data['sentiment'] = data['content'].apply(get_sentiment)"
      ]
    },
    {
      "cell_type": "code",
      "source": [
        "# Tampilkan pembagian data berdasarkan sentimen\n",
        "sentiment_counts = data['sentiment'].value_counts()\n",
        "\n",
        "# Menampilkan hasil pembagian\n",
        "print(\"Hasil Pembagian Data Berdasarkan Sentimen:\")\n",
        "print(sentiment_counts)\n"
      ],
      "metadata": {
        "colab": {
          "base_uri": "https://localhost:8080/"
        },
        "id": "nOHl1vqMqzdT",
        "outputId": "89c866a3-24b8-4b0d-89e1-e206c9a051b0"
      },
      "execution_count": null,
      "outputs": [
        {
          "output_type": "stream",
          "name": "stdout",
          "text": [
            "Hasil Pembagian Data Berdasarkan Sentimen:\n",
            "sentiment\n",
            "Positive    17905\n",
            "Neutral      3396\n",
            "Negative     2207\n",
            "Name: count, dtype: int64\n"
          ]
        }
      ]
    },
    {
      "cell_type": "code",
      "source": [
        "# Membuat figure dan plot dengan ukuran yang sesuai\n",
        "plt.figure(figsize=(8, 5))\n",
        "\n",
        "# Plot distribusi sentimen dengan countplot\n",
        "sns.countplot(x='sentiment', data=data)\n",
        "\n",
        "# Menambahkan judul dan label\n",
        "plt.title('Distribusi Sentimen', fontsize=16)\n",
        "plt.xlabel('Sentimen', fontsize=12)\n",
        "plt.ylabel('Total', fontsize=12)\n",
        "\n",
        "# Menampilkan plot\n",
        "plt.show()"
      ],
      "metadata": {
        "colab": {
          "base_uri": "https://localhost:8080/",
          "height": 493
        },
        "id": "v9nxViwJrWDA",
        "outputId": "076a18cb-12e9-4951-b6f2-6208e63d8c8e"
      },
      "execution_count": null,
      "outputs": [
        {
          "output_type": "display_data",
          "data": {
            "text/plain": [
              "<Figure size 800x500 with 1 Axes>"
            ],
            "image/png": "[encoded data removed]"
          },
          "metadata": {}
        }
      ]
    },
    {
      "cell_type": "code",
      "execution_count": null,
      "metadata": {
        "id": "MrYvJ97Mr-bn"
      },
      "outputs": [],
      "source": [
        "# Neural Network Preparation\n",
        "X = tokenizer.texts_to_sequences(data['content'].values)\n",
        "X = pad_sequences(X, maxlen=250)\n",
        "y = pd.get_dummies(data['sentiment']).values"
      ]
    },
    {
      "cell_type": "code",
      "execution_count": null,
      "metadata": {
        "colab": {
          "base_uri": "https://localhost:8080/"
        },
        "id": "b_LTUAJ0owtR",
        "outputId": "014a030d-8fe0-4f42-a1a2-78762ce97807"
      },
      "outputs": [
        {
          "output_type": "stream",
          "name": "stdout",
          "text": [
            "(18806, 250) (18806, 3)\n",
            "(4702, 250) (4702, 3)\n"
          ]
        }
      ],
      "source": [
        "# Split data for training and testing\n",
        "X_train, X_test, y_train, y_test = train_test_split(X, y, test_size=0.2, random_state=42)\n",
        "print(X_train.shape, y_train.shape)\n",
        "print(X_test.shape, y_test.shape)"
      ]
    },
    {
      "cell_type": "code",
      "source": [
        "# Hasil Pembagian Dataset\n",
        "print(f\"Total data training: {len(X_train)}, Data testing: {len(X_test)}\")\n",
        "print(f\"Total data: {len(data)}\")\n"
      ],
      "metadata": {
        "colab": {
          "base_uri": "https://localhost:8080/"
        },
        "id": "yMVXQYm_rzYO",
        "outputId": "816a7152-dc80-42bd-d5db-a582b90792b3"
      },
      "execution_count": null,
      "outputs": [
        {
          "output_type": "stream",
          "name": "stdout",
          "text": [
            "Total data training: 18806, Data testing: 4702\n",
            "Total data: 23508\n"
          ]
        }
      ]
    },
    {
      "cell_type": "code",
      "source": [
        "# Model architecture\n",
        "model = Sequential()\n",
        "model.add(Embedding(5000, 100, input_length=250))\n",
        "model.add(SpatialDropout1D(0.1))\n",
        "model.add(LSTM(80, dropout=0.1, recurrent_dropout=0.1))\n",
        "model.add(Dense(3, activation='softmax'))\n",
        "\n",
        "# Compile model\n",
        "model.compile(loss='categorical_crossentropy', optimizer='adam', metrics=['accuracy'])\n",
        "\n",
        "# Early stopping\n",
        "early_stop = EarlyStopping(monitor='val_loss', mode='min', patience=3, min_delta=0.0001)\n",
        "\n",
        "# Train model\n",
        "history = model.fit(X_train, y_train, epochs=7, batch_size=128, validation_split=0.2, callbacks=[early_stop])\n",
        "print (model.summary())"
      ],
      "metadata": {
        "colab": {
          "base_uri": "https://localhost:8080/"
        },
        "id": "xEKaCSfPH0H2",
        "outputId": "f98ec2b1-1c84-4a6c-af5f-ab1e6ab8ef92"
      },
      "execution_count": null,
      "outputs": [
        {
          "metadata": {
            "tags": null
          },
          "name": "stderr",
          "output_type": "stream",
          "text": [
            "/usr/local/lib/python3.10/dist-packages/keras/src/layers/core/embedding.py:90: UserWarning: Argument `input_length` is deprecated. Just remove it.\n",
            "  warnings.warn(\n"
          ]
        },
        {
          "output_type": "stream",
          "name": "stdout",
          "text": [
            "Epoch 1/7\n",
            "\u001b[1m118/118\u001b[0m \u001b[32m━━━━━━━━━━━━━━━━━━━━\u001b[0m\u001b[37m\u001b[0m \u001b[1m93s\u001b[0m 721ms/step - accuracy: 0.7680 - loss: 0.6579 - val_accuracy: 0.8934 - val_loss: 0.2971\n",
            "Epoch 2/7\n",
            "\u001b[1m118/118\u001b[0m \u001b[32m━━━━━━━━━━━━━━━━━━━━\u001b[0m\u001b[37m\u001b[0m \u001b[1m133s\u001b[0m 660ms/step - accuracy: 0.9088 - loss: 0.2470 - val_accuracy: 0.9242 - val_loss: 0.2166\n",
            "Epoch 3/7\n",
            "\u001b[1m118/118\u001b[0m \u001b[32m━━━━━━━━━━━━━━━━━━━━\u001b[0m\u001b[37m\u001b[0m \u001b[1m79s\u001b[0m 632ms/step - accuracy: 0.9534 - loss: 0.1427 - val_accuracy: 0.9375 - val_loss: 0.1805\n",
            "Epoch 4/7\n",
            "\u001b[1m118/118\u001b[0m \u001b[32m━━━━━━━━━━━━━━━━━━━━\u001b[0m\u001b[37m\u001b[0m \u001b[1m83s\u001b[0m 644ms/step - accuracy: 0.9748 - loss: 0.0846 - val_accuracy: 0.9474 - val_loss: 0.1703\n",
            "Epoch 5/7\n",
            "\u001b[1m118/118\u001b[0m \u001b[32m━━━━━━━━━━━━━━━━━━━━\u001b[0m\u001b[37m\u001b[0m \u001b[1m85s\u001b[0m 673ms/step - accuracy: 0.9813 - loss: 0.0632 - val_accuracy: 0.9431 - val_loss: 0.1778\n",
            "Epoch 6/7\n",
            "\u001b[1m118/118\u001b[0m \u001b[32m━━━━━━━━━━━━━━━━━━━━\u001b[0m\u001b[37m\u001b[0m \u001b[1m80s\u001b[0m 658ms/step - accuracy: 0.9868 - loss: 0.0455 - val_accuracy: 0.9482 - val_loss: 0.1730\n",
            "Epoch 7/7\n",
            "\u001b[1m 40/118\u001b[0m \u001b[32m━━━━━━\u001b[0m\u001b[37m━━━━━━━━━━━━━━\u001b[0m \u001b[1m46s\u001b[0m 592ms/step - accuracy: 0.9884 - loss: 0.0458"
          ]
        }
      ]
    },
    {
      "cell_type": "code",
      "source": [
        "# Evaluation\n",
        "y_pred = model.predict(X_test)\n",
        "y_pred_classes = np.argmax(y_pred, axis=1)\n",
        "y_test_classes = np.argmax(y_test, axis=1)"
      ],
      "metadata": {
        "id": "xVg49_CIIJEk"
      },
      "execution_count": null,
      "outputs": []
    },
    {
      "cell_type": "code",
      "execution_count": null,
      "metadata": {
        "id": "8XUSuldijobU"
      },
      "outputs": [],
      "source": [
        "# Confusion matrix and classification report\n",
        "print(\"Confusion Matrix:\")\n",
        "print(confusion_matrix(y_test_classes, y_pred_classes))\n",
        "print(\"Classification Report:\")\n",
        "print(classification_report(y_test_classes, y_pred_classes, target_names=['Negative', 'Neutral', 'Positive']))\n",
        "\n",
        "# Accuracy\n",
        "print(f\"LSTM Accuracy: {accuracy_score(y_test_classes, y_pred_classes):.4f}\")"
      ]
    },
    {
      "cell_type": "code",
      "execution_count": null,
      "metadata": {
        "id": "25nBg0B9lXed"
      },
      "outputs": [],
      "source": [
        "# Laporan klasifikasi\n",
        "class_report = classification_report(y_test_classes, y_pred_classes, target_names=['Negative', 'Neutral', 'Positive'])\n",
        "print(\"Classification Report:\")\n",
        "print(class_report)\n",
        "\n"
      ]
    },
    {
      "cell_type": "code",
      "source": [
        "# Visualisasi distribusi sentimen\n",
        "plt.figure(figsize=(8,6))\n",
        "sns.countplot(x='sentiment', data=data, palette='Set2')\n",
        "plt.title('Distribusi Sentimen', fontsize=16)\n",
        "plt.xlabel('Sentimen', fontsize=14)\n",
        "plt.ylabel('Jumlah', fontsize=14)\n",
        "plt.show()"
      ],
      "metadata": {
        "id": "7of0Eff0gys5"
      },
      "execution_count": null,
      "outputs": []
    },
    {
      "cell_type": "code",
      "source": [
        "# Menambahkan kolom panjang teks\n",
        "data['length'] = data['content'].apply(len)\n",
        "\n",
        "# Visualisasi distribusi panjang teks berdasarkan sentimen\n",
        "plt.figure(figsize=(10,6))\n",
        "sns.boxplot(x='sentiment', y='length', data=data, palette='Set2')\n",
        "plt.title('Distribusi Panjang Teks Berdasarkan Sentimen', fontsize=16)\n",
        "plt.xlabel('Sentimen', fontsize=14)\n",
        "plt.ylabel('Panjang Teks (Jumlah Karakter)', fontsize=14)\n",
        "plt.show()\n"
      ],
      "metadata": {
        "id": "l9JRF0kKhQHI"
      },
      "execution_count": null,
      "outputs": []
    },
    {
      "cell_type": "code",
      "execution_count": null,
      "metadata": {
        "id": "YFZlGl2WkKxM"
      },
      "outputs": [],
      "source": [
        "def get_sentiment_score(content):\n",
        "    content_stemmed = stem_words(content)\n",
        "\n",
        "    score = 0\n",
        "    for word in content_stemmed.split():\n",
        "        if word in positive_dict:\n",
        "            score += positive_dict[word]\n",
        "        elif word in negative_dict:\n",
        "            score += negative_dict[word]\n",
        "\n",
        "    return score\n",
        "\n",
        "# Menambahkan skor sentimen ke dalam dataframe\n",
        "data['sentiment_score'] = data['content'].apply(get_sentiment_score)\n",
        "\n",
        "# Visualisasi distribusi skor sentimen\n",
        "plt.figure(figsize=(10,6))\n",
        "sns.histplot(data['sentiment_score'], kde=True, color='blue')\n",
        "plt.title('Distribusi Skor Sentimen', fontsize=16)\n",
        "plt.xlabel('Skor Sentimen', fontsize=14)\n",
        "plt.ylabel('Frekuensi', fontsize=14)\n",
        "plt.show()\n"
      ]
    },
    {
      "cell_type": "code",
      "execution_count": null,
      "metadata": {
        "id": "_NkK2g9hlfqj"
      },
      "outputs": [],
      "source": [
        "# Menghasilkan confusion matrix\n",
        "data['predicted_sentiment'] = data['content'].apply(get_sentiment)\n",
        "cm = confusion_matrix(data['sentiment'], data['predicted_sentiment'], labels=['Positive', 'Negative', 'Neutral'])\n",
        "\n",
        "# Menampilkan confusion matrix\n",
        "print(\"Confusion Matrix:\")\n",
        "print(cm)"
      ]
    },
    {
      "cell_type": "code",
      "source": [
        "# Membuat plot confusion matrix\n",
        "plt.figure(figsize=(8, 6))\n",
        "sns.heatmap(cm, annot=True, fmt='d', cmap='Blues', xticklabels=['Positive', 'Negative', 'Neutral'], yticklabels=['Positive', 'Negative', 'Neutral'])\n",
        "\n",
        "# Menambahkan judul dan label\n",
        "plt.title('Confusion Matrix for Sentiment Analysis', fontsize=16)\n",
        "plt.xlabel('Predicted Sentiment', fontsize=14)\n",
        "plt.ylabel('Actual Sentiment', fontsize=14)\n",
        "\n",
        "plt.show()\n"
      ],
      "metadata": {
        "id": "dEd7-cUIiCXN"
      },
      "execution_count": null,
      "outputs": []
    },
    {
      "cell_type": "code",
      "execution_count": null,
      "metadata": {
        "id": "qhdIpCrcp3E2"
      },
      "outputs": [],
      "source": [
        "import matplotlib.pyplot as plt\n",
        "\n",
        "# Plot akurasi\n",
        "plt.figure(figsize=(12, 6))\n",
        "\n",
        "# Plot akurasi pelatihan dan validasi\n",
        "plt.subplot(1, 2, 1)\n",
        "plt.plot(history.history['accuracy'], label='Training Accuracy')\n",
        "plt.plot(history.history['val_accuracy'], label='Validation Accuracy')\n",
        "plt.title('Training and Validation Accuracy')\n",
        "plt.xlabel('Epochs')\n",
        "plt.ylabel('Accuracy')\n",
        "plt.legend(loc='lower right')\n",
        "\n",
        "# Plot kerugian pelatihan dan validasi\n",
        "plt.subplot(1, 2, 2)\n",
        "plt.plot(history.history['loss'], label='Training Loss')\n",
        "plt.plot(history.history['val_loss'], label='Validation Loss')\n",
        "plt.title('Training and Validation Loss')\n",
        "plt.xlabel('Epochs')\n",
        "plt.ylabel('Loss')\n",
        "plt.legend(loc='upper right')\n",
        "\n",
        "# Menampilkan plot\n",
        "plt.tight_layout()\n",
        "plt.show()\n"
      ]
    },
    {
      "cell_type": "code",
      "execution_count": null,
      "metadata": {
        "id": "irPC7FW2rss0"
      },
      "outputs": [],
      "source": [
        "from wordcloud import WordCloud\n",
        "# Word Cloud untuk Sentimen Positif\n",
        "positive_words = ' '.join([text for text in data[data['sentiment'] == 'Positive']['content']])\n",
        "positive_wordcloud = WordCloud(width=800, height=500, random_state=21, max_font_size=110, colormap='Blues').generate(positive_words)\n",
        "\n",
        "plt.figure(figsize=(10, 7))\n",
        "plt.imshow(positive_wordcloud, interpolation=\"bilinear\")\n",
        "plt.axis('off')\n",
        "plt.title('Word Cloud - Sentimen Positif')\n",
        "plt.show()\n",
        "\n",
        "# Word Cloud untuk Sentimen Negatif\n",
        "negative_words = ' '.join([text for text in data[data['sentiment'] == 'Negative']['content']])\n",
        "negative_wordcloud = WordCloud(width=800, height=500, random_state=21, max_font_size=110, colormap='Reds').generate(negative_words)\n",
        "\n",
        "plt.figure(figsize=(10, 7))\n",
        "plt.imshow(negative_wordcloud, interpolation=\"bilinear\")\n",
        "plt.axis('off')\n",
        "plt.title('Word Cloud - Sentimen Negatif')\n",
        "plt.show()"
      ]
    },
    {
      "cell_type": "code",
      "execution_count": null,
      "metadata": {
        "id": "tTMuGC4hqj2z"
      },
      "outputs": [],
      "source": [
        "\n",
        "# Tampilkan 3 contoh dari setiap kategori sentimen\n",
        "def display_examples(sentiment_label):\n",
        "    examples = data[data['sentiment'] == sentiment_label].head(3)\n",
        "    print(f\"\\nContoh {sentiment_label} Sentiment:\")\n",
        "    for idx, row in examples.iterrows():\n",
        "        print(f\"{idx+1}. {row['content']}\")\n",
        "\n",
        "# Tampilkan contoh untuk sentimen negatif dan positif\n",
        "display_examples('Negative')\n",
        "display_examples('Neutral')\n",
        "display_examples('Positive')\n"
      ]
    },
    {
      "cell_type": "code",
      "execution_count": null,
      "metadata": {
        "id": "WqfnVcDkrrO9"
      },
      "outputs": [],
      "source": [
        "import numpy as np\n",
        "from tensorflow.keras.preprocessing.sequence import pad_sequences\n",
        "\n",
        "# Ubah nama fungsi atau variabel untuk menghindari konflik\n",
        "def case_folding_func(content):\n",
        "    return content.lower()\n",
        "\n",
        "# Fungsi untuk preprocessing input yang diterima dari pengguna\n",
        "def preprocess_input(content):\n",
        "    content = case_folding_func(content)  # Case folding\n",
        "    content = normalize_slang(content)  # Normalisasi slang\n",
        "    content = remove_stopwords(content)  # Hapus stopwords\n",
        "    content = stem_words(content)  # Stemming\n",
        "    content = tokenize_content(content)  # Tokenisasi\n",
        "    return content\n",
        "\n",
        "# Fungsi untuk memprediksi sentimen dari input\n",
        "def get_sentiment(content):\n",
        "    # Preprocess input text\n",
        "    processed_content = preprocess_input(content)\n",
        "\n",
        "    # Tokenize dan pad input untuk sesuai dengan panjang input model\n",
        "    input_sequence = tokenizer.texts_to_sequences([processed_content])\n",
        "    input_padded = pad_sequences(input_sequence, maxlen=250)\n",
        "\n",
        "    # Prediksi sentimen dengan model yang sudah dilatih\n",
        "    sentiment_pred = model.predict(input_padded)\n",
        "\n",
        "    # Menentukan label sentimen berdasarkan hasil prediksi\n",
        "    sentiment_labels = ['Negative', 'Neutral', 'Positive']\n",
        "    sentiment = sentiment_labels[np.argmax(sentiment_pred)]\n",
        "\n",
        "    return sentiment\n"
      ]
    },
    {
      "cell_type": "code",
      "source": [
        "# Fungsi untuk analisis sentimen berdasarkan input teks\n",
        "def predict_sentiment():\n",
        "    while True:\n",
        "        # Menerima input dari pengguna\n",
        "        content = input(\"Masukkan teks untuk analisis sentimen (ketik '1' untuk keluar): \")\n",
        "\n",
        "        # Jika pengguna mengetikkan '1', keluar dari loop\n",
        "        if content == '1':\n",
        "            print(\"Proses selesai.\")\n",
        "            break\n",
        "\n",
        "        # Preprocessing input teks\n",
        "        processed_content = preprocess_input(content)\n",
        "\n",
        "        # Prediksi sentimen berdasarkan teks yang telah diproses\n",
        "        sentiment = get_sentiment(content)\n",
        "\n",
        "        # Menampilkan hasil sentimen\n",
        "        print(f\"Sentimen Teks: {sentiment}\")\n",
        "\n",
        "# Panggil fungsi untuk mulai analisis\n",
        "predict_sentiment()\n"
      ],
      "metadata": {
        "id": "C22vQbh1kMIR",
        "colab": {
          "base_uri": "https://localhost:8080/"
        },
        "outputId": "544ac9a5-948f-430a-b8a6-2fd57a47fdbc"
      },
      "execution_count": 33,
      "outputs": [
        {
          "output_type": "stream",
          "name": "stdout",
          "text": [
            "Masukkan teks untuk analisis sentimen (ketik '1' untuk keluar): 1\n",
            "Proses selesai.\n"
          ]
        }
      ]
    }
  ],
  "metadata": {
    "colab": {
      "provenance": [],
      "gpuType": "T4",
      "authorship_tag": "ABX9TyPKiV0ReihzjqyNM8bd1XCJ",
      "include_colab_link": true
    },
    "kernelspec": {
      "display_name": "Python 3",
      "name": "python3"
    },
    "language_info": {
      "name": "python"
    },
    "widgets": {
      "application/vnd.jupyter.widget-state+json": {
        "0d717f1e3813486c9b05d23159d90e22": {
          "model_module": "@jupyter-widgets/controls",
          "model_name": "HBoxModel",
          "model_module_version": "1.5.0",
          "state": {
            "_dom_classes": [],
            "_model_module": "@jupyter-widgets/controls",
            "_model_module_version": "1.5.0",
            "_model_name": "HBoxModel",
            "_view_count": null,
            "_view_module": "@jupyter-widgets/controls",
            "_view_module_version": "1.5.0",
            "_view_name": "HBoxView",
            "box_style": "",
            "children": [
              "IPY_MODEL_cdbfc1b4e6724869a3551524b242987f",
              "IPY_MODEL_81040a7b892f427281a4dd8adeac6385",
              "IPY_MODEL_2e66e37d73ff47fabeec2da892c2be05"
            ],
            "layout": "IPY_MODEL_1ded2521aaa348d6b80f4c118754fe43"
          }
        },
        "cdbfc1b4e6724869a3551524b242987f": {
          "model_module": "@jupyter-widgets/controls",
          "model_name": "HTMLModel",
          "model_module_version": "1.5.0",
          "state": {
            "_dom_classes": [],
            "_model_module": "@jupyter-widgets/controls",
            "_model_module_version": "1.5.0",
            "_model_name": "HTMLModel",
            "_view_count": null,
            "_view_module": "@jupyter-widgets/controls",
            "_view_module_version": "1.5.0",
            "_view_name": "HTMLView",
            "description": "",
            "description_tooltip": null,
            "layout": "IPY_MODEL_cf6d6e86ad254c44a4a3874ae4f33c8e",
            "placeholder": "​",
            "style": "IPY_MODEL_ff6d8817dc7045648823cfa8ac5fc746",
            "value": "Pandas Apply: 100%"
          }
        },
        "81040a7b892f427281a4dd8adeac6385": {
          "model_module": "@jupyter-widgets/controls",
          "model_name": "FloatProgressModel",
          "model_module_version": "1.5.0",
          "state": {
            "_dom_classes": [],
            "_model_module": "@jupyter-widgets/controls",
            "_model_module_version": "1.5.0",
            "_model_name": "FloatProgressModel",
            "_view_count": null,
            "_view_module": "@jupyter-widgets/controls",
            "_view_module_version": "1.5.0",
            "_view_name": "ProgressView",
            "bar_style": "success",
            "description": "",
            "description_tooltip": null,
            "layout": "IPY_MODEL_b078d9c390bc4b19b90d432dbfc27f18",
            "max": 23508,
            "min": 0,
            "orientation": "horizontal",
            "style": "IPY_MODEL_29fe6c9fbbcc47fb99371047d2fb3f7f",
            "value": 23508
          }
        },
        "2e66e37d73ff47fabeec2da892c2be05": {
          "model_module": "@jupyter-widgets/controls",
          "model_name": "HTMLModel",
          "model_module_version": "1.5.0",
          "state": {
            "_dom_classes": [],
            "_model_module": "@jupyter-widgets/controls",
            "_model_module_version": "1.5.0",
            "_model_name": "HTMLModel",
            "_view_count": null,
            "_view_module": "@jupyter-widgets/controls",
            "_view_module_version": "1.5.0",
            "_view_name": "HTMLView",
            "description": "",
            "description_tooltip": null,
            "layout": "IPY_MODEL_6f6a4677a7e948329fe621011f0ba6ae",
            "placeholder": "​",
            "style": "IPY_MODEL_1b3084a45b3a499299ef33b5bf0bce3d",
            "value": " 23508/23508 [16:11&lt;00:00, 1189.17it/s]"
          }
        },
        "1ded2521aaa348d6b80f4c118754fe43": {
          "model_module": "@jupyter-widgets/base",
          "model_name": "LayoutModel",
          "model_module_version": "1.2.0",
          "state": {
            "_model_module": "@jupyter-widgets/base",
            "_model_module_version": "1.2.0",
            "_model_name": "LayoutModel",
            "_view_count": null,
            "_view_module": "@jupyter-widgets/base",
            "_view_module_version": "1.2.0",
            "_view_name": "LayoutView",
            "align_content": null,
            "align_items": null,
            "align_self": null,
            "border": null,
            "bottom": null,
            "display": null,
            "flex": null,
            "flex_flow": null,
            "grid_area": null,
            "grid_auto_columns": null,
            "grid_auto_flow": null,
            "grid_auto_rows": null,
            "grid_column": null,
            "grid_gap": null,
            "grid_row": null,
            "grid_template_areas": null,
            "grid_template_columns": null,
            "grid_template_rows": null,
            "height": null,
            "justify_content": null,
            "justify_items": null,
            "left": null,
            "margin": null,
            "max_height": null,
            "max_width": null,
            "min_height": null,
            "min_width": null,
            "object_fit": null,
            "object_position": null,
            "order": null,
            "overflow": null,
            "overflow_x": null,
            "overflow_y": null,
            "padding": null,
            "right": null,
            "top": null,
            "visibility": null,
            "width": null
          }
        },
        "cf6d6e86ad254c44a4a3874ae4f33c8e": {
          "model_module": "@jupyter-widgets/base",
          "model_name": "LayoutModel",
          "model_module_version": "1.2.0",
          "state": {
            "_model_module": "@jupyter-widgets/base",
            "_model_module_version": "1.2.0",
            "_model_name": "LayoutModel",
            "_view_count": null,
            "_view_module": "@jupyter-widgets/base",
            "_view_module_version": "1.2.0",
            "_view_name": "LayoutView",
            "align_content": null,
            "align_items": null,
            "align_self": null,
            "border": null,
            "bottom": null,
            "display": null,
            "flex": null,
            "flex_flow": null,
            "grid_area": null,
            "grid_auto_columns": null,
            "grid_auto_flow": null,
            "grid_auto_rows": null,
            "grid_column": null,
            "grid_gap": null,
            "grid_row": null,
            "grid_template_areas": null,
            "grid_template_columns": null,
            "grid_template_rows": null,
            "height": null,
            "justify_content": null,
            "justify_items": null,
            "left": null,
            "margin": null,
            "max_height": null,
            "max_width": null,
            "min_height": null,
            "min_width": null,
            "object_fit": null,
            "object_position": null,
            "order": null,
            "overflow": null,
            "overflow_x": null,
            "overflow_y": null,
            "padding": null,
            "right": null,
            "top": null,
            "visibility": null,
            "width": null
          }
        },
        "ff6d8817dc7045648823cfa8ac5fc746": {
          "model_module": "@jupyter-widgets/controls",
          "model_name": "DescriptionStyleModel",
          "model_module_version": "1.5.0",
          "state": {
            "_model_module": "@jupyter-widgets/controls",
            "_model_module_version": "1.5.0",
            "_model_name": "DescriptionStyleModel",
            "_view_count": null,
            "_view_module": "@jupyter-widgets/base",
            "_view_module_version": "1.2.0",
            "_view_name": "StyleView",
            "description_width": ""
          }
        },
        "b078d9c390bc4b19b90d432dbfc27f18": {
          "model_module": "@jupyter-widgets/base",
          "model_name": "LayoutModel",
          "model_module_version": "1.2.0",
          "state": {
            "_model_module": "@jupyter-widgets/base",
            "_model_module_version": "1.2.0",
            "_model_name": "LayoutModel",
            "_view_count": null,
            "_view_module": "@jupyter-widgets/base",
            "_view_module_version": "1.2.0",
            "_view_name": "LayoutView",
            "align_content": null,
            "align_items": null,
            "align_self": null,
            "border": null,
            "bottom": null,
            "display": null,
            "flex": null,
            "flex_flow": null,
            "grid_area": null,
            "grid_auto_columns": null,
            "grid_auto_flow": null,
            "grid_auto_rows": null,
            "grid_column": null,
            "grid_gap": null,
            "grid_row": null,
            "grid_template_areas": null,
            "grid_template_columns": null,
            "grid_template_rows": null,
            "height": null,
            "justify_content": null,
            "justify_items": null,
            "left": null,
            "margin": null,
            "max_height": null,
            "max_width": null,
            "min_height": null,
            "min_width": null,
            "object_fit": null,
            "object_position": null,
            "order": null,
            "overflow": null,
            "overflow_x": null,
            "overflow_y": null,
            "padding": null,
            "right": null,
            "top": null,
            "visibility": null,
            "width": null
          }
        },
        "29fe6c9fbbcc47fb99371047d2fb3f7f": {
          "model_module": "@jupyter-widgets/controls",
          "model_name": "ProgressStyleModel",
          "model_module_version": "1.5.0",
          "state": {
            "_model_module": "@jupyter-widgets/controls",
            "_model_module_version": "1.5.0",
            "_model_name": "ProgressStyleModel",
            "_view_count": null,
            "_view_module": "@jupyter-widgets/base",
            "_view_module_version": "1.2.0",
            "_view_name": "StyleView",
            "bar_color": null,
            "description_width": ""
          }
        },
        "6f6a4677a7e948329fe621011f0ba6ae": {
          "model_module": "@jupyter-widgets/base",
          "model_name": "LayoutModel",
          "model_module_version": "1.2.0",
          "state": {
            "_model_module": "@jupyter-widgets/base",
            "_model_module_version": "1.2.0",
            "_model_name": "LayoutModel",
            "_view_count": null,
            "_view_module": "@jupyter-widgets/base",
            "_view_module_version": "1.2.0",
            "_view_name": "LayoutView",
            "align_content": null,
            "align_items": null,
            "align_self": null,
            "border": null,
            "bottom": null,
            "display": null,
            "flex": null,
            "flex_flow": null,
            "grid_area": null,
            "grid_auto_columns": null,
            "grid_auto_flow": null,
            "grid_auto_rows": null,
            "grid_column": null,
            "grid_gap": null,
            "grid_row": null,
            "grid_template_areas": null,
            "grid_template_columns": null,
            "grid_template_rows": null,
            "height": null,
            "justify_content": null,
            "justify_items": null,
            "left": null,
            "margin": null,
            "max_height": null,
            "max_width": null,
            "min_height": null,
            "min_width": null,
            "object_fit": null,
            "object_position": null,
            "order": null,
            "overflow": null,
            "overflow_x": null,
            "overflow_y": null,
            "padding": null,
            "right": null,
            "top": null,
            "visibility": null,
            "width": null
          }
        },
        "1b3084a45b3a499299ef33b5bf0bce3d": {
          "model_module": "@jupyter-widgets/controls",
          "model_name": "DescriptionStyleModel",
          "model_module_version": "1.5.0",
          "state": {
            "_model_module": "@jupyter-widgets/controls",
            "_model_module_version": "1.5.0",
            "_model_name": "DescriptionStyleModel",
            "_view_count": null,
            "_view_module": "@jupyter-widgets/base",
            "_view_module_version": "1.2.0",
            "_view_name": "StyleView",
            "description_width": ""
          }
        }
      }
    },
    "accelerator": "GPU"
  },
  "nbformat": 4,
  "nbformat_minor": 0
}